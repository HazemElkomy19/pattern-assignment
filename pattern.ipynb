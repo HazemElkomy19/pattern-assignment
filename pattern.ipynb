{
 "cells": [
  {
   "cell_type": "markdown",
   "metadata": {},
   "source": [
    "# Importing the libraries"
   ]
  },
  {
   "cell_type": "code",
   "execution_count": 7,
   "metadata": {},
   "outputs": [],
   "source": [
    "\n",
    "import pandas as pd\n",
    "\n",
    "from sklearn.model_selection import train_test_split\n",
    "\n",
    "from sklearn.metrics import accuracy_score,confusion_matrix\n",
    "\n",
    "from sklearn.naive_bayes import GaussianNB\n",
    "from ucimlrepo import fetch_ucirepo\n"
   ]
  },
  {
   "cell_type": "code",
   "execution_count": 9,
   "metadata": {},
   "outputs": [
    {
     "ename": "ConnectionError",
     "evalue": "Error connecting to server",
     "output_type": "error",
     "traceback": [
      "\u001b[1;31m---------------------------------------------------------------------------\u001b[0m",
      "\u001b[1;31mgaierror\u001b[0m                                  Traceback (most recent call last)",
      "File \u001b[1;32mc:\\Users\\hazem\\AppData\\Local\\Programs\\Python\\Python312\\Lib\\urllib\\request.py:1344\u001b[0m, in \u001b[0;36mAbstractHTTPHandler.do_open\u001b[1;34m(self, http_class, req, **http_conn_args)\u001b[0m\n\u001b[0;32m   1343\u001b[0m \u001b[39mtry\u001b[39;00m:\n\u001b[1;32m-> 1344\u001b[0m     h\u001b[39m.\u001b[39;49mrequest(req\u001b[39m.\u001b[39;49mget_method(), req\u001b[39m.\u001b[39;49mselector, req\u001b[39m.\u001b[39;49mdata, headers,\n\u001b[0;32m   1345\u001b[0m               encode_chunked\u001b[39m=\u001b[39;49mreq\u001b[39m.\u001b[39;49mhas_header(\u001b[39m'\u001b[39;49m\u001b[39mTransfer-encoding\u001b[39;49m\u001b[39m'\u001b[39;49m))\n\u001b[0;32m   1346\u001b[0m \u001b[39mexcept\u001b[39;00m \u001b[39mOSError\u001b[39;00m \u001b[39mas\u001b[39;00m err: \u001b[39m# timeout error\u001b[39;00m\n",
      "File \u001b[1;32mc:\\Users\\hazem\\AppData\\Local\\Programs\\Python\\Python312\\Lib\\http\\client.py:1319\u001b[0m, in \u001b[0;36mHTTPConnection.request\u001b[1;34m(self, method, url, body, headers, encode_chunked)\u001b[0m\n\u001b[0;32m   1318\u001b[0m \u001b[39m\u001b[39m\u001b[39m\"\"\"Send a complete request to the server.\"\"\"\u001b[39;00m\n\u001b[1;32m-> 1319\u001b[0m \u001b[39mself\u001b[39;49m\u001b[39m.\u001b[39;49m_send_request(method, url, body, headers, encode_chunked)\n",
      "File \u001b[1;32mc:\\Users\\hazem\\AppData\\Local\\Programs\\Python\\Python312\\Lib\\http\\client.py:1365\u001b[0m, in \u001b[0;36mHTTPConnection._send_request\u001b[1;34m(self, method, url, body, headers, encode_chunked)\u001b[0m\n\u001b[0;32m   1364\u001b[0m     body \u001b[39m=\u001b[39m _encode(body, \u001b[39m'\u001b[39m\u001b[39mbody\u001b[39m\u001b[39m'\u001b[39m)\n\u001b[1;32m-> 1365\u001b[0m \u001b[39mself\u001b[39;49m\u001b[39m.\u001b[39;49mendheaders(body, encode_chunked\u001b[39m=\u001b[39;49mencode_chunked)\n",
      "File \u001b[1;32mc:\\Users\\hazem\\AppData\\Local\\Programs\\Python\\Python312\\Lib\\http\\client.py:1314\u001b[0m, in \u001b[0;36mHTTPConnection.endheaders\u001b[1;34m(self, message_body, encode_chunked)\u001b[0m\n\u001b[0;32m   1313\u001b[0m     \u001b[39mraise\u001b[39;00m CannotSendHeader()\n\u001b[1;32m-> 1314\u001b[0m \u001b[39mself\u001b[39;49m\u001b[39m.\u001b[39;49m_send_output(message_body, encode_chunked\u001b[39m=\u001b[39;49mencode_chunked)\n",
      "File \u001b[1;32mc:\\Users\\hazem\\AppData\\Local\\Programs\\Python\\Python312\\Lib\\http\\client.py:1074\u001b[0m, in \u001b[0;36mHTTPConnection._send_output\u001b[1;34m(self, message_body, encode_chunked)\u001b[0m\n\u001b[0;32m   1073\u001b[0m \u001b[39mdel\u001b[39;00m \u001b[39mself\u001b[39m\u001b[39m.\u001b[39m_buffer[:]\n\u001b[1;32m-> 1074\u001b[0m \u001b[39mself\u001b[39;49m\u001b[39m.\u001b[39;49msend(msg)\n\u001b[0;32m   1076\u001b[0m \u001b[39mif\u001b[39;00m message_body \u001b[39mis\u001b[39;00m \u001b[39mnot\u001b[39;00m \u001b[39mNone\u001b[39;00m:\n\u001b[0;32m   1077\u001b[0m \n\u001b[0;32m   1078\u001b[0m     \u001b[39m# create a consistent interface to message_body\u001b[39;00m\n",
      "File \u001b[1;32mc:\\Users\\hazem\\AppData\\Local\\Programs\\Python\\Python312\\Lib\\http\\client.py:1018\u001b[0m, in \u001b[0;36mHTTPConnection.send\u001b[1;34m(self, data)\u001b[0m\n\u001b[0;32m   1017\u001b[0m \u001b[39mif\u001b[39;00m \u001b[39mself\u001b[39m\u001b[39m.\u001b[39mauto_open:\n\u001b[1;32m-> 1018\u001b[0m     \u001b[39mself\u001b[39;49m\u001b[39m.\u001b[39;49mconnect()\n\u001b[0;32m   1019\u001b[0m \u001b[39melse\u001b[39;00m:\n",
      "File \u001b[1;32mc:\\Users\\hazem\\AppData\\Local\\Programs\\Python\\Python312\\Lib\\http\\client.py:1453\u001b[0m, in \u001b[0;36mHTTPSConnection.connect\u001b[1;34m(self)\u001b[0m\n\u001b[0;32m   1451\u001b[0m \u001b[39m\"\u001b[39m\u001b[39mConnect to a host on a given (SSL) port.\u001b[39m\u001b[39m\"\u001b[39m\n\u001b[1;32m-> 1453\u001b[0m \u001b[39msuper\u001b[39;49m()\u001b[39m.\u001b[39;49mconnect()\n\u001b[0;32m   1455\u001b[0m \u001b[39mif\u001b[39;00m \u001b[39mself\u001b[39m\u001b[39m.\u001b[39m_tunnel_host:\n",
      "File \u001b[1;32mc:\\Users\\hazem\\AppData\\Local\\Programs\\Python\\Python312\\Lib\\http\\client.py:984\u001b[0m, in \u001b[0;36mHTTPConnection.connect\u001b[1;34m(self)\u001b[0m\n\u001b[0;32m    983\u001b[0m sys\u001b[39m.\u001b[39maudit(\u001b[39m\"\u001b[39m\u001b[39mhttp.client.connect\u001b[39m\u001b[39m\"\u001b[39m, \u001b[39mself\u001b[39m, \u001b[39mself\u001b[39m\u001b[39m.\u001b[39mhost, \u001b[39mself\u001b[39m\u001b[39m.\u001b[39mport)\n\u001b[1;32m--> 984\u001b[0m \u001b[39mself\u001b[39m\u001b[39m.\u001b[39msock \u001b[39m=\u001b[39m \u001b[39mself\u001b[39;49m\u001b[39m.\u001b[39;49m_create_connection(\n\u001b[0;32m    985\u001b[0m     (\u001b[39mself\u001b[39;49m\u001b[39m.\u001b[39;49mhost,\u001b[39mself\u001b[39;49m\u001b[39m.\u001b[39;49mport), \u001b[39mself\u001b[39;49m\u001b[39m.\u001b[39;49mtimeout, \u001b[39mself\u001b[39;49m\u001b[39m.\u001b[39;49msource_address)\n\u001b[0;32m    986\u001b[0m \u001b[39m# Might fail in OSs that don't implement TCP_NODELAY\u001b[39;00m\n",
      "File \u001b[1;32mc:\\Users\\hazem\\AppData\\Local\\Programs\\Python\\Python312\\Lib\\socket.py:828\u001b[0m, in \u001b[0;36mcreate_connection\u001b[1;34m(address, timeout, source_address, all_errors)\u001b[0m\n\u001b[0;32m    827\u001b[0m exceptions \u001b[39m=\u001b[39m []\n\u001b[1;32m--> 828\u001b[0m \u001b[39mfor\u001b[39;00m res \u001b[39min\u001b[39;00m getaddrinfo(host, port, \u001b[39m0\u001b[39;49m, SOCK_STREAM):\n\u001b[0;32m    829\u001b[0m     af, socktype, proto, canonname, sa \u001b[39m=\u001b[39m res\n",
      "File \u001b[1;32mc:\\Users\\hazem\\AppData\\Local\\Programs\\Python\\Python312\\Lib\\socket.py:963\u001b[0m, in \u001b[0;36mgetaddrinfo\u001b[1;34m(host, port, family, type, proto, flags)\u001b[0m\n\u001b[0;32m    962\u001b[0m addrlist \u001b[39m=\u001b[39m []\n\u001b[1;32m--> 963\u001b[0m \u001b[39mfor\u001b[39;00m res \u001b[39min\u001b[39;00m _socket\u001b[39m.\u001b[39;49mgetaddrinfo(host, port, family, \u001b[39mtype\u001b[39;49m, proto, flags):\n\u001b[0;32m    964\u001b[0m     af, socktype, proto, canonname, sa \u001b[39m=\u001b[39m res\n",
      "\u001b[1;31mgaierror\u001b[0m: [Errno 11001] getaddrinfo failed",
      "\nDuring handling of the above exception, another exception occurred:\n",
      "\u001b[1;31mURLError\u001b[0m                                  Traceback (most recent call last)",
      "File \u001b[1;32mc:\\Users\\hazem\\AppData\\Local\\Programs\\Python\\Python312\\Lib\\site-packages\\ucimlrepo\\fetch.py:68\u001b[0m, in \u001b[0;36mfetch_ucirepo\u001b[1;34m(name, id)\u001b[0m\n\u001b[0;32m     67\u001b[0m \u001b[39mtry\u001b[39;00m:\n\u001b[1;32m---> 68\u001b[0m     response \u001b[39m=\u001b[39m urllib\u001b[39m.\u001b[39;49mrequest\u001b[39m.\u001b[39;49murlopen(api_url, context\u001b[39m=\u001b[39;49mssl\u001b[39m.\u001b[39;49mcreate_default_context(cafile\u001b[39m=\u001b[39;49mcertifi\u001b[39m.\u001b[39;49mwhere()))\n\u001b[0;32m     69\u001b[0m     data \u001b[39m=\u001b[39m json\u001b[39m.\u001b[39mload(response)\n",
      "File \u001b[1;32mc:\\Users\\hazem\\AppData\\Local\\Programs\\Python\\Python312\\Lib\\urllib\\request.py:215\u001b[0m, in \u001b[0;36murlopen\u001b[1;34m(url, data, timeout, cafile, capath, cadefault, context)\u001b[0m\n\u001b[0;32m    214\u001b[0m     opener \u001b[39m=\u001b[39m _opener\n\u001b[1;32m--> 215\u001b[0m \u001b[39mreturn\u001b[39;00m opener\u001b[39m.\u001b[39;49mopen(url, data, timeout)\n",
      "File \u001b[1;32mc:\\Users\\hazem\\AppData\\Local\\Programs\\Python\\Python312\\Lib\\urllib\\request.py:515\u001b[0m, in \u001b[0;36mOpenerDirector.open\u001b[1;34m(self, fullurl, data, timeout)\u001b[0m\n\u001b[0;32m    514\u001b[0m sys\u001b[39m.\u001b[39maudit(\u001b[39m'\u001b[39m\u001b[39murllib.Request\u001b[39m\u001b[39m'\u001b[39m, req\u001b[39m.\u001b[39mfull_url, req\u001b[39m.\u001b[39mdata, req\u001b[39m.\u001b[39mheaders, req\u001b[39m.\u001b[39mget_method())\n\u001b[1;32m--> 515\u001b[0m response \u001b[39m=\u001b[39m \u001b[39mself\u001b[39;49m\u001b[39m.\u001b[39;49m_open(req, data)\n\u001b[0;32m    517\u001b[0m \u001b[39m# post-process response\u001b[39;00m\n",
      "File \u001b[1;32mc:\\Users\\hazem\\AppData\\Local\\Programs\\Python\\Python312\\Lib\\urllib\\request.py:532\u001b[0m, in \u001b[0;36mOpenerDirector._open\u001b[1;34m(self, req, data)\u001b[0m\n\u001b[0;32m    531\u001b[0m protocol \u001b[39m=\u001b[39m req\u001b[39m.\u001b[39mtype\n\u001b[1;32m--> 532\u001b[0m result \u001b[39m=\u001b[39m \u001b[39mself\u001b[39;49m\u001b[39m.\u001b[39;49m_call_chain(\u001b[39mself\u001b[39;49m\u001b[39m.\u001b[39;49mhandle_open, protocol, protocol \u001b[39m+\u001b[39;49m\n\u001b[0;32m    533\u001b[0m                           \u001b[39m'\u001b[39;49m\u001b[39m_open\u001b[39;49m\u001b[39m'\u001b[39;49m, req)\n\u001b[0;32m    534\u001b[0m \u001b[39mif\u001b[39;00m result:\n",
      "File \u001b[1;32mc:\\Users\\hazem\\AppData\\Local\\Programs\\Python\\Python312\\Lib\\urllib\\request.py:492\u001b[0m, in \u001b[0;36mOpenerDirector._call_chain\u001b[1;34m(self, chain, kind, meth_name, *args)\u001b[0m\n\u001b[0;32m    491\u001b[0m func \u001b[39m=\u001b[39m \u001b[39mgetattr\u001b[39m(handler, meth_name)\n\u001b[1;32m--> 492\u001b[0m result \u001b[39m=\u001b[39m func(\u001b[39m*\u001b[39;49margs)\n\u001b[0;32m    493\u001b[0m \u001b[39mif\u001b[39;00m result \u001b[39mis\u001b[39;00m \u001b[39mnot\u001b[39;00m \u001b[39mNone\u001b[39;00m:\n",
      "File \u001b[1;32mc:\\Users\\hazem\\AppData\\Local\\Programs\\Python\\Python312\\Lib\\urllib\\request.py:1392\u001b[0m, in \u001b[0;36mHTTPSHandler.https_open\u001b[1;34m(self, req)\u001b[0m\n\u001b[0;32m   1391\u001b[0m \u001b[39mdef\u001b[39;00m \u001b[39mhttps_open\u001b[39m(\u001b[39mself\u001b[39m, req):\n\u001b[1;32m-> 1392\u001b[0m     \u001b[39mreturn\u001b[39;00m \u001b[39mself\u001b[39;49m\u001b[39m.\u001b[39;49mdo_open(http\u001b[39m.\u001b[39;49mclient\u001b[39m.\u001b[39;49mHTTPSConnection, req,\n\u001b[0;32m   1393\u001b[0m                         context\u001b[39m=\u001b[39;49m\u001b[39mself\u001b[39;49m\u001b[39m.\u001b[39;49m_context)\n",
      "File \u001b[1;32mc:\\Users\\hazem\\AppData\\Local\\Programs\\Python\\Python312\\Lib\\urllib\\request.py:1347\u001b[0m, in \u001b[0;36mAbstractHTTPHandler.do_open\u001b[1;34m(self, http_class, req, **http_conn_args)\u001b[0m\n\u001b[0;32m   1346\u001b[0m \u001b[39mexcept\u001b[39;00m \u001b[39mOSError\u001b[39;00m \u001b[39mas\u001b[39;00m err: \u001b[39m# timeout error\u001b[39;00m\n\u001b[1;32m-> 1347\u001b[0m     \u001b[39mraise\u001b[39;00m URLError(err)\n\u001b[0;32m   1348\u001b[0m r \u001b[39m=\u001b[39m h\u001b[39m.\u001b[39mgetresponse()\n",
      "\u001b[1;31mURLError\u001b[0m: <urlopen error [Errno 11001] getaddrinfo failed>",
      "\nDuring handling of the above exception, another exception occurred:\n",
      "\u001b[1;31mConnectionError\u001b[0m                           Traceback (most recent call last)",
      "\u001b[1;32mc:\\Users\\hazem\\OneDrive\\Документы\\pythonapps\\pattern.ipynb Cell 3\u001b[0m line \u001b[0;36m2\n\u001b[0;32m      <a href='vscode-notebook-cell:/c%3A/Users/hazem/OneDrive/%D0%94%D0%BE%D0%BA%D1%83%D0%BC%D0%B5%D0%BD%D1%82%D1%8B/pythonapps/pattern.ipynb#W2sZmlsZQ%3D%3D?line=0'>1</a>\u001b[0m \u001b[39m# fetch dataset \u001b[39;00m\n\u001b[1;32m----> <a href='vscode-notebook-cell:/c%3A/Users/hazem/OneDrive/%D0%94%D0%BE%D0%BA%D1%83%D0%BC%D0%B5%D0%BD%D1%82%D1%8B/pythonapps/pattern.ipynb#W2sZmlsZQ%3D%3D?line=1'>2</a>\u001b[0m adult \u001b[39m=\u001b[39m fetch_ucirepo(\u001b[39mid\u001b[39;49m\u001b[39m=\u001b[39;49m\u001b[39m2\u001b[39;49m) \n",
      "File \u001b[1;32mc:\\Users\\hazem\\AppData\\Local\\Programs\\Python\\Python312\\Lib\\site-packages\\ucimlrepo\\fetch.py:71\u001b[0m, in \u001b[0;36mfetch_ucirepo\u001b[1;34m(name, id)\u001b[0m\n\u001b[0;32m     69\u001b[0m     data \u001b[39m=\u001b[39m json\u001b[39m.\u001b[39mload(response)\n\u001b[0;32m     70\u001b[0m \u001b[39mexcept\u001b[39;00m (urllib\u001b[39m.\u001b[39merror\u001b[39m.\u001b[39mURLError, urllib\u001b[39m.\u001b[39merror\u001b[39m.\u001b[39mHTTPError):\n\u001b[1;32m---> 71\u001b[0m     \u001b[39mraise\u001b[39;00m \u001b[39mConnectionError\u001b[39;00m(\u001b[39m'\u001b[39m\u001b[39mError connecting to server\u001b[39m\u001b[39m'\u001b[39m)\n\u001b[0;32m     73\u001b[0m \u001b[39m# verify that dataset exists \u001b[39;00m\n\u001b[0;32m     74\u001b[0m \u001b[39mif\u001b[39;00m data[\u001b[39m'\u001b[39m\u001b[39mstatus\u001b[39m\u001b[39m'\u001b[39m] \u001b[39m!=\u001b[39m \u001b[39m200\u001b[39m:\n",
      "\u001b[1;31mConnectionError\u001b[0m: Error connecting to server"
     ]
    }
   ],
   "source": [
    " \n",
    "  \n",
    "# fetch dataset \n",
    "adult = fetch_ucirepo(id=2) "
   ]
  },
  {
   "cell_type": "markdown",
   "metadata": {},
   "source": [
    "# Reading The Dataset"
   ]
  },
  {
   "cell_type": "code",
   "execution_count": null,
   "metadata": {},
   "outputs": [
    {
     "name": "stdout",
     "output_type": "stream",
     "text": [
      "{'uci_id': 2, 'name': 'Adult', 'repository_url': 'https://archive.ics.uci.edu/dataset/2/adult', 'data_url': 'https://archive.ics.uci.edu/static/public/2/data.csv', 'abstract': 'Predict whether income exceeds $50K/yr based on census data. Also known as \"Census Income\" dataset. ', 'area': 'Social Science', 'tasks': ['Classification'], 'characteristics': ['Multivariate'], 'num_instances': 48842, 'num_features': 14, 'feature_types': ['Categorical', 'Integer'], 'demographics': ['Age', 'Income', 'Education Level', 'Other', 'Race', 'Sex'], 'target_col': ['income'], 'index_col': None, 'has_missing_values': 'yes', 'missing_values_symbol': 'NaN', 'year_of_dataset_creation': 1996, 'last_updated': 'Mon Aug 07 2023', 'dataset_doi': '10.24432/C5XW20', 'creators': ['Barry Becker', 'Ronny Kohavi'], 'intro_paper': None, 'additional_info': {'summary': 'Extraction was done by Barry Becker from the 1994 Census database.  A set of reasonably clean records was extracted using the following conditions: ((AAGE>16) && (AGI>100) && (AFNLWGT>1)&& (HRSWK>0))\\r\\n\\r\\nPrediction task is to determine whether a person makes over 50K a year.\\r\\n', 'purpose': None, 'funded_by': None, 'instances_represent': None, 'recommended_data_splits': None, 'sensitive_data': None, 'preprocessing_description': None, 'variable_info': 'Listing of attributes:\\r\\n\\r\\n>50K, <=50K.\\r\\n\\r\\nage: continuous.\\r\\nworkclass: Private, Self-emp-not-inc, Self-emp-inc, Federal-gov, Local-gov, State-gov, Without-pay, Never-worked.\\r\\nfnlwgt: continuous.\\r\\neducation: Bachelors, Some-college, 11th, HS-grad, Prof-school, Assoc-acdm, Assoc-voc, 9th, 7th-8th, 12th, Masters, 1st-4th, 10th, Doctorate, 5th-6th, Preschool.\\r\\neducation-num: continuous.\\r\\nmarital-status: Married-civ-spouse, Divorced, Never-married, Separated, Widowed, Married-spouse-absent, Married-AF-spouse.\\r\\noccupation: Tech-support, Craft-repair, Other-service, Sales, Exec-managerial, Prof-specialty, Handlers-cleaners, Machine-op-inspct, Adm-clerical, Farming-fishing, Transport-moving, Priv-house-serv, Protective-serv, Armed-Forces.\\r\\nrelationship: Wife, Own-child, Husband, Not-in-family, Other-relative, Unmarried.\\r\\nrace: White, Asian-Pac-Islander, Amer-Indian-Eskimo, Other, Black.\\r\\nsex: Female, Male.\\r\\ncapital-gain: continuous.\\r\\ncapital-loss: continuous.\\r\\nhours-per-week: continuous.\\r\\nnative-country: United-States, Cambodia, England, Puerto-Rico, Canada, Germany, Outlying-US(Guam-USVI-etc), India, Japan, Greece, South, China, Cuba, Iran, Honduras, Philippines, Italy, Poland, Jamaica, Vietnam, Mexico, Portugal, Ireland, France, Dominican-Republic, Laos, Ecuador, Taiwan, Haiti, Columbia, Hungary, Guatemala, Nicaragua, Scotland, Thailand, Yugoslavia, El-Salvador, Trinadad&Tobago, Peru, Hong, Holand-Netherlands.', 'citation': None}}\n",
      "              name     role         type      demographic  \\\n",
      "0              age  Feature      Integer              Age   \n",
      "1        workclass  Feature  Categorical           Income   \n",
      "2           fnlwgt  Feature      Integer             None   \n",
      "3        education  Feature  Categorical  Education Level   \n",
      "4    education-num  Feature      Integer  Education Level   \n",
      "5   marital-status  Feature  Categorical            Other   \n",
      "6       occupation  Feature  Categorical            Other   \n",
      "7     relationship  Feature  Categorical            Other   \n",
      "8             race  Feature  Categorical             Race   \n",
      "9              sex  Feature       Binary              Sex   \n",
      "10    capital-gain  Feature      Integer             None   \n",
      "11    capital-loss  Feature      Integer             None   \n",
      "12  hours-per-week  Feature      Integer             None   \n",
      "13  native-country  Feature  Categorical            Other   \n",
      "14          income   Target       Binary           Income   \n",
      "\n",
      "                                          description units missing_values  \n",
      "0                                                 N/A  None             no  \n",
      "1   Private, Self-emp-not-inc, Self-emp-inc, Feder...  None            yes  \n",
      "2                                                None  None             no  \n",
      "3    Bachelors, Some-college, 11th, HS-grad, Prof-...  None             no  \n",
      "4                                                None  None             no  \n",
      "5   Married-civ-spouse, Divorced, Never-married, S...  None             no  \n",
      "6   Tech-support, Craft-repair, Other-service, Sal...  None            yes  \n",
      "7   Wife, Own-child, Husband, Not-in-family, Other...  None             no  \n",
      "8   White, Asian-Pac-Islander, Amer-Indian-Eskimo,...  None             no  \n",
      "9                                       Female, Male.  None             no  \n",
      "10                                               None  None             no  \n",
      "11                                               None  None             no  \n",
      "12                                               None  None             no  \n",
      "13  United-States, Cambodia, England, Puerto-Rico,...  None            yes  \n",
      "14                                       >50K, <=50K.  None             no  \n"
     ]
    }
   ],
   "source": [
    "  \n",
    "# data (as pandas dataframes) \n",
    "X = adult.data.features \n",
    "y = adult.data.targets \n",
    "  \n",
    "# metadata \n",
    "print(adult.metadata) \n",
    "  \n",
    "# variable information \n",
    "print(adult.variables) \n"
   ]
  },
  {
   "cell_type": "markdown",
   "metadata": {},
   "source": [
    "# Info of the Dataset"
   ]
  },
  {
   "cell_type": "code",
   "execution_count": null,
   "metadata": {},
   "outputs": [
    {
     "name": "stdout",
     "output_type": "stream",
     "text": [
      "<class 'pandas.core.frame.DataFrame'>\n",
      "RangeIndex: 48842 entries, 0 to 48841\n",
      "Data columns (total 14 columns):\n",
      " #   Column          Non-Null Count  Dtype \n",
      "---  ------          --------------  ----- \n",
      " 0   age             48842 non-null  int64 \n",
      " 1   workclass       47879 non-null  object\n",
      " 2   fnlwgt          48842 non-null  int64 \n",
      " 3   education       48842 non-null  object\n",
      " 4   education-num   48842 non-null  int64 \n",
      " 5   marital-status  48842 non-null  object\n",
      " 6   occupation      47876 non-null  object\n",
      " 7   relationship    48842 non-null  object\n",
      " 8   race            48842 non-null  object\n",
      " 9   sex             48842 non-null  object\n",
      " 10  capital-gain    48842 non-null  int64 \n",
      " 11  capital-loss    48842 non-null  int64 \n",
      " 12  hours-per-week  48842 non-null  int64 \n",
      " 13  native-country  48568 non-null  object\n",
      "dtypes: int64(6), object(8)\n",
      "memory usage: 5.2+ MB\n"
     ]
    }
   ],
   "source": [
    "X.info()"
   ]
  },
  {
   "cell_type": "markdown",
   "metadata": {},
   "source": [
    "# Replace commas to make two classes not four"
   ]
  },
  {
   "cell_type": "code",
   "execution_count": null,
   "metadata": {},
   "outputs": [
    {
     "name": "stderr",
     "output_type": "stream",
     "text": [
      "C:\\Users\\hazem\\AppData\\Local\\Temp\\ipykernel_6740\\3639172686.py:1: SettingWithCopyWarning: \n",
      "A value is trying to be set on a copy of a slice from a DataFrame.\n",
      "Try using .loc[row_indexer,col_indexer] = value instead\n",
      "\n",
      "See the caveats in the documentation: https://pandas.pydata.org/pandas-docs/stable/user_guide/indexing.html#returning-a-view-versus-a-copy\n",
      "  y['income']=[i.replace('.','') for i in y['income']]\n"
     ]
    }
   ],
   "source": [
    "y['income']=[i.replace('.','') for i in y['income']]\n"
   ]
  },
  {
   "cell_type": "markdown",
   "metadata": {},
   "source": [
    "# Apply one-hot encoding to categorical variables"
   ]
  },
  {
   "cell_type": "code",
   "execution_count": null,
   "metadata": {},
   "outputs": [
    {
     "name": "stdout",
     "output_type": "stream",
     "text": [
      "       workclass_?  workclass_Federal-gov  workclass_Local-gov  \\\n",
      "0            False                  False                False   \n",
      "1            False                  False                False   \n",
      "2            False                  False                False   \n",
      "3            False                  False                False   \n",
      "4            False                  False                False   \n",
      "...            ...                    ...                  ...   \n",
      "48837        False                  False                False   \n",
      "48838        False                  False                False   \n",
      "48839        False                  False                False   \n",
      "48840        False                  False                False   \n",
      "48841        False                  False                False   \n",
      "\n",
      "       workclass_Never-worked  workclass_Private  workclass_Self-emp-inc  \\\n",
      "0                       False              False                   False   \n",
      "1                       False              False                   False   \n",
      "2                       False               True                   False   \n",
      "3                       False               True                   False   \n",
      "4                       False               True                   False   \n",
      "...                       ...                ...                     ...   \n",
      "48837                   False               True                   False   \n",
      "48838                   False              False                   False   \n",
      "48839                   False               True                   False   \n",
      "48840                   False               True                   False   \n",
      "48841                   False              False                    True   \n",
      "\n",
      "       workclass_Self-emp-not-inc  workclass_State-gov  workclass_Without-pay  \\\n",
      "0                           False                 True                  False   \n",
      "1                            True                False                  False   \n",
      "2                           False                False                  False   \n",
      "3                           False                False                  False   \n",
      "4                           False                False                  False   \n",
      "...                           ...                  ...                    ...   \n",
      "48837                       False                False                  False   \n",
      "48838                       False                False                  False   \n",
      "48839                       False                False                  False   \n",
      "48840                       False                False                  False   \n",
      "48841                       False                False                  False   \n",
      "\n",
      "       education_10th  ...  native-country_Portugal  \\\n",
      "0               False  ...                    False   \n",
      "1               False  ...                    False   \n",
      "2               False  ...                    False   \n",
      "3               False  ...                    False   \n",
      "4               False  ...                    False   \n",
      "...               ...  ...                      ...   \n",
      "48837           False  ...                    False   \n",
      "48838           False  ...                    False   \n",
      "48839           False  ...                    False   \n",
      "48840           False  ...                    False   \n",
      "48841           False  ...                    False   \n",
      "\n",
      "       native-country_Puerto-Rico  native-country_Scotland  \\\n",
      "0                           False                    False   \n",
      "1                           False                    False   \n",
      "2                           False                    False   \n",
      "3                           False                    False   \n",
      "4                           False                    False   \n",
      "...                           ...                      ...   \n",
      "48837                       False                    False   \n",
      "48838                       False                    False   \n",
      "48839                       False                    False   \n",
      "48840                       False                    False   \n",
      "48841                       False                    False   \n",
      "\n",
      "       native-country_South  native-country_Taiwan  native-country_Thailand  \\\n",
      "0                     False                  False                    False   \n",
      "1                     False                  False                    False   \n",
      "2                     False                  False                    False   \n",
      "3                     False                  False                    False   \n",
      "4                     False                  False                    False   \n",
      "...                     ...                    ...                      ...   \n",
      "48837                 False                  False                    False   \n",
      "48838                 False                  False                    False   \n",
      "48839                 False                  False                    False   \n",
      "48840                 False                  False                    False   \n",
      "48841                 False                  False                    False   \n",
      "\n",
      "       native-country_Trinadad&Tobago  native-country_United-States  \\\n",
      "0                               False                          True   \n",
      "1                               False                          True   \n",
      "2                               False                          True   \n",
      "3                               False                          True   \n",
      "4                               False                         False   \n",
      "...                               ...                           ...   \n",
      "48837                           False                          True   \n",
      "48838                           False                          True   \n",
      "48839                           False                          True   \n",
      "48840                           False                          True   \n",
      "48841                           False                          True   \n",
      "\n",
      "       native-country_Vietnam  native-country_Yugoslavia  \n",
      "0                       False                      False  \n",
      "1                       False                      False  \n",
      "2                       False                      False  \n",
      "3                       False                      False  \n",
      "4                       False                      False  \n",
      "...                       ...                        ...  \n",
      "48837                   False                      False  \n",
      "48838                   False                      False  \n",
      "48839                   False                      False  \n",
      "48840                   False                      False  \n",
      "48841                   False                      False  \n",
      "\n",
      "[48842 rows x 102 columns]\n"
     ]
    }
   ],
   "source": [
    "\n",
    "categorical_cols = X.select_dtypes(include=['object']).columns\n",
    "inputs = pd.get_dummies(X[categorical_cols])\n",
    "print(inputs)"
   ]
  },
  {
   "cell_type": "code",
   "execution_count": null,
   "metadata": {},
   "outputs": [
    {
     "name": "stdout",
     "output_type": "stream",
     "text": [
      "       age         workclass  fnlwgt  education  education-num  \\\n",
      "0       39         State-gov   77516  Bachelors             13   \n",
      "1       50  Self-emp-not-inc   83311  Bachelors             13   \n",
      "2       38           Private  215646    HS-grad              9   \n",
      "3       53           Private  234721       11th              7   \n",
      "4       28           Private  338409  Bachelors             13   \n",
      "...    ...               ...     ...        ...            ...   \n",
      "48837   39           Private  215419  Bachelors             13   \n",
      "48838   64               NaN  321403    HS-grad              9   \n",
      "48839   38           Private  374983  Bachelors             13   \n",
      "48840   44           Private   83891  Bachelors             13   \n",
      "48841   35      Self-emp-inc  182148  Bachelors             13   \n",
      "\n",
      "           marital-status         occupation    relationship  \\\n",
      "0           Never-married       Adm-clerical   Not-in-family   \n",
      "1      Married-civ-spouse    Exec-managerial         Husband   \n",
      "2                Divorced  Handlers-cleaners   Not-in-family   \n",
      "3      Married-civ-spouse  Handlers-cleaners         Husband   \n",
      "4      Married-civ-spouse     Prof-specialty            Wife   \n",
      "...                   ...                ...             ...   \n",
      "48837            Divorced     Prof-specialty   Not-in-family   \n",
      "48838             Widowed                NaN  Other-relative   \n",
      "48839  Married-civ-spouse     Prof-specialty         Husband   \n",
      "48840            Divorced       Adm-clerical       Own-child   \n",
      "48841  Married-civ-spouse    Exec-managerial         Husband   \n",
      "\n",
      "                     race     sex  ...  native-country_Portugal  \\\n",
      "0                   White    Male  ...                    False   \n",
      "1                   White    Male  ...                    False   \n",
      "2                   White    Male  ...                    False   \n",
      "3                   Black    Male  ...                    False   \n",
      "4                   Black  Female  ...                    False   \n",
      "...                   ...     ...  ...                      ...   \n",
      "48837               White  Female  ...                    False   \n",
      "48838               Black    Male  ...                    False   \n",
      "48839               White    Male  ...                    False   \n",
      "48840  Asian-Pac-Islander    Male  ...                    False   \n",
      "48841               White    Male  ...                    False   \n",
      "\n",
      "       native-country_Puerto-Rico  native-country_Scotland  \\\n",
      "0                           False                    False   \n",
      "1                           False                    False   \n",
      "2                           False                    False   \n",
      "3                           False                    False   \n",
      "4                           False                    False   \n",
      "...                           ...                      ...   \n",
      "48837                       False                    False   \n",
      "48838                       False                    False   \n",
      "48839                       False                    False   \n",
      "48840                       False                    False   \n",
      "48841                       False                    False   \n",
      "\n",
      "      native-country_South  native-country_Taiwan  native-country_Thailand  \\\n",
      "0                    False                  False                    False   \n",
      "1                    False                  False                    False   \n",
      "2                    False                  False                    False   \n",
      "3                    False                  False                    False   \n",
      "4                    False                  False                    False   \n",
      "...                    ...                    ...                      ...   \n",
      "48837                False                  False                    False   \n",
      "48838                False                  False                    False   \n",
      "48839                False                  False                    False   \n",
      "48840                False                  False                    False   \n",
      "48841                False                  False                    False   \n",
      "\n",
      "       native-country_Trinadad&Tobago  native-country_United-States  \\\n",
      "0                               False                          True   \n",
      "1                               False                          True   \n",
      "2                               False                          True   \n",
      "3                               False                          True   \n",
      "4                               False                         False   \n",
      "...                               ...                           ...   \n",
      "48837                           False                          True   \n",
      "48838                           False                          True   \n",
      "48839                           False                          True   \n",
      "48840                           False                          True   \n",
      "48841                           False                          True   \n",
      "\n",
      "       native-country_Vietnam  native-country_Yugoslavia  \n",
      "0                       False                      False  \n",
      "1                       False                      False  \n",
      "2                       False                      False  \n",
      "3                       False                      False  \n",
      "4                       False                      False  \n",
      "...                       ...                        ...  \n",
      "48837                   False                      False  \n",
      "48838                   False                      False  \n",
      "48839                   False                      False  \n",
      "48840                   False                      False  \n",
      "48841                   False                      False  \n",
      "\n",
      "[48842 rows x 116 columns]\n"
     ]
    }
   ],
   "source": [
    "X=pd.concat([X,inputs],axis=1)\n",
    "print(X)\n"
   ]
  },
  {
   "cell_type": "markdown",
   "metadata": {},
   "source": [
    "# Drop Categorical Columns"
   ]
  },
  {
   "cell_type": "code",
   "execution_count": null,
   "metadata": {},
   "outputs": [
    {
     "name": "stdout",
     "output_type": "stream",
     "text": [
      "       age  fnlwgt  education-num  capital-gain  capital-loss  hours-per-week  \\\n",
      "0       39   77516             13          2174             0              40   \n",
      "1       50   83311             13             0             0              13   \n",
      "2       38  215646              9             0             0              40   \n",
      "3       53  234721              7             0             0              40   \n",
      "4       28  338409             13             0             0              40   \n",
      "...    ...     ...            ...           ...           ...             ...   \n",
      "48837   39  215419             13             0             0              36   \n",
      "48838   64  321403              9             0             0              40   \n",
      "48839   38  374983             13             0             0              50   \n",
      "48840   44   83891             13          5455             0              40   \n",
      "48841   35  182148             13             0             0              60   \n",
      "\n",
      "       workclass_?  workclass_Federal-gov  workclass_Local-gov  \\\n",
      "0            False                  False                False   \n",
      "1            False                  False                False   \n",
      "2            False                  False                False   \n",
      "3            False                  False                False   \n",
      "4            False                  False                False   \n",
      "...            ...                    ...                  ...   \n",
      "48837        False                  False                False   \n",
      "48838        False                  False                False   \n",
      "48839        False                  False                False   \n",
      "48840        False                  False                False   \n",
      "48841        False                  False                False   \n",
      "\n",
      "       workclass_Never-worked  ...  native-country_Puerto-Rico  \\\n",
      "0                       False  ...                       False   \n",
      "1                       False  ...                       False   \n",
      "2                       False  ...                       False   \n",
      "3                       False  ...                       False   \n",
      "4                       False  ...                       False   \n",
      "...                       ...  ...                         ...   \n",
      "48837                   False  ...                       False   \n",
      "48838                   False  ...                       False   \n",
      "48839                   False  ...                       False   \n",
      "48840                   False  ...                       False   \n",
      "48841                   False  ...                       False   \n",
      "\n",
      "       native-country_Scotland  native-country_South  native-country_Taiwan  \\\n",
      "0                        False                 False                  False   \n",
      "1                        False                 False                  False   \n",
      "2                        False                 False                  False   \n",
      "3                        False                 False                  False   \n",
      "4                        False                 False                  False   \n",
      "...                        ...                   ...                    ...   \n",
      "48837                    False                 False                  False   \n",
      "48838                    False                 False                  False   \n",
      "48839                    False                 False                  False   \n",
      "48840                    False                 False                  False   \n",
      "48841                    False                 False                  False   \n",
      "\n",
      "       native-country_Thailand  native-country_Trinadad&Tobago  \\\n",
      "0                        False                           False   \n",
      "1                        False                           False   \n",
      "2                        False                           False   \n",
      "3                        False                           False   \n",
      "4                        False                           False   \n",
      "...                        ...                             ...   \n",
      "48837                    False                           False   \n",
      "48838                    False                           False   \n",
      "48839                    False                           False   \n",
      "48840                    False                           False   \n",
      "48841                    False                           False   \n",
      "\n",
      "       native-country_United-States  native-country_Vietnam  \\\n",
      "0                              True                   False   \n",
      "1                              True                   False   \n",
      "2                              True                   False   \n",
      "3                              True                   False   \n",
      "4                             False                   False   \n",
      "...                             ...                     ...   \n",
      "48837                          True                   False   \n",
      "48838                          True                   False   \n",
      "48839                          True                   False   \n",
      "48840                          True                   False   \n",
      "48841                          True                   False   \n",
      "\n",
      "       native-country_Yugoslavia  income  \n",
      "0                          False   <=50K  \n",
      "1                          False   <=50K  \n",
      "2                          False   <=50K  \n",
      "3                          False   <=50K  \n",
      "4                          False   <=50K  \n",
      "...                          ...     ...  \n",
      "48837                      False   <=50K  \n",
      "48838                      False   <=50K  \n",
      "48839                      False   <=50K  \n",
      "48840                      False   <=50K  \n",
      "48841                      False    >50K  \n",
      "\n",
      "[48842 rows x 109 columns]\n"
     ]
    }
   ],
   "source": [
    "X=X.drop(categorical_cols ,axis=1)\n",
    "data=pd.concat([X,y],axis=1)       \n",
    "data.dropna(inplace=True)\n",
    "print(data)\n"
   ]
  },
  {
   "cell_type": "markdown",
   "metadata": {},
   "source": [
    "# Split the data into training and testing sets"
   ]
  },
  {
   "cell_type": "code",
   "execution_count": null,
   "metadata": {},
   "outputs": [],
   "source": [
    "\n",
    "X_train, X_test, y_train, y_test = train_test_split(data.drop('income',axis=1), data['income'], test_size=0.3, random_state=42)"
   ]
  },
  {
   "cell_type": "code",
   "execution_count": null,
   "metadata": {},
   "outputs": [
    {
     "data": {
      "text/plain": [
       "0.7954605282400772"
      ]
     },
     "execution_count": 36,
     "metadata": {},
     "output_type": "execute_result"
    }
   ],
   "source": [
    "model=GaussianNB()\n",
    "model.fit(X_train,y_train)\n",
    "model.score(X_train,y_train)"
   ]
  },
  {
   "cell_type": "code",
   "execution_count": null,
   "metadata": {},
   "outputs": [
    {
     "name": "stdout",
     "output_type": "stream",
     "text": [
      "['<=50K' '<=50K' '<=50K' ... '<=50K' '<=50K' '<=50K']\n"
     ]
    }
   ],
   "source": [
    "y_predict=model.predict(X_test)\n",
    "print(y_predict)"
   ]
  },
  {
   "cell_type": "markdown",
   "metadata": {},
   "source": [
    "# accuracy score"
   ]
  },
  {
   "cell_type": "code",
   "execution_count": null,
   "metadata": {},
   "outputs": [
    {
     "name": "stdout",
     "output_type": "stream",
     "text": [
      "0.7956732409745445\n"
     ]
    }
   ],
   "source": [
    "print(accuracy_score(y_test,y_predict))\n"
   ]
  },
  {
   "cell_type": "markdown",
   "metadata": {},
   "source": [
    "# Confusion Matrix"
   ]
  },
  {
   "cell_type": "code",
   "execution_count": null,
   "metadata": {},
   "outputs": [
    {
     "name": "stdout",
     "output_type": "stream",
     "text": [
      "Confusion matrix: [[10575   534]\n",
      " [ 2460  1084]]\n",
      "Senstivity:  0.3058690744920993\n",
      "Specifity:  0.9519308668647043\n"
     ]
    }
   ],
   "source": [
    "\n",
    "conf_mat = confusion_matrix(y_test,y_predict)\n",
    "print(\"Confusion matrix:\",conf_mat)\n",
    "\n",
    "tn, fp, fn, tp = conf_mat.ravel()\n",
    "\n",
    "senstivity = tp / (tp+fn)\n",
    "specifity = tn / (tn+fp)\n",
    "\n",
    "print(\"Senstivity: \", senstivity)\n",
    "print(\"Specifity: \", specifity)"
   ]
  },
  {
   "cell_type": "markdown",
   "metadata": {},
   "source": [
    "# prosterior prob of all data"
   ]
  },
  {
   "cell_type": "code",
   "execution_count": null,
   "metadata": {},
   "outputs": [
    {
     "name": "stdout",
     "output_type": "stream",
     "text": [
      "[0.12458152 0.0042687  0.00940912 ... 0.02299824 0.99998551 0.02830668]\n"
     ]
    }
   ],
   "source": [
    "prosterior_prob=model.predict_proba(data.drop('income',axis=1))\n",
    "print(prosterior_prob[:,1])"
   ]
  },
  {
   "cell_type": "markdown",
   "metadata": {},
   "source": [
    "# prosterior prob of test data"
   ]
  },
  {
   "cell_type": "code",
   "execution_count": null,
   "metadata": {},
   "outputs": [
    {
     "name": "stdout",
     "output_type": "stream",
     "text": [
      "[0.0003614  0.00033922 0.00311577 ... 0.01368053 0.00481139 0.00488423]\n"
     ]
    }
   ],
   "source": [
    "prosterior_prob=model.predict_proba(X_test)\n",
    "print(prosterior_prob[:,1])"
   ]
  }
 ],
 "metadata": {
  "kernelspec": {
   "display_name": "Python 3",
   "language": "python",
   "name": "python3"
  },
  "language_info": {
   "codemirror_mode": {
    "name": "ipython",
    "version": 3
   },
   "file_extension": ".py",
   "mimetype": "text/x-python",
   "name": "python",
   "nbconvert_exporter": "python",
   "pygments_lexer": "ipython3",
   "version": "3.12.0"
  }
 },
 "nbformat": 4,
 "nbformat_minor": 2
}
